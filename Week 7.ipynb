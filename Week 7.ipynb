{
 "cells": [
  {
   "cell_type": "markdown",
   "metadata": {},
   "source": [
    "## Linear Regression - Data Normalisation\n",
    "\n",
    "This notebook presents a problem that requires some normalisation of data before a linear regression model can be applied.    The data we will use is the Sea Ice data from Chapter 6 of the text (also referenced in [the accompanying notebooks](https://github.com/MQCOMP257/introduction-datascience-python-book/blob/master/ch06_Regression_Analysis.ipynb)).  Our goal is to observe the relationship between `year` and `extent` of the Sea Ice and to build a linear regression model to predict the extent for a given year."
   ]
  },
  {
   "cell_type": "code",
   "execution_count": 115,
   "metadata": {},
   "outputs": [],
   "source": [
    "import seaborn as sns\n",
    "import numpy as np\n",
    "import pandas as pd\n",
    "from sklearn.linear_model import LinearRegression\n",
    "from sklearn import metrics\n",
    "import matplotlib.pylab as plt\n",
    "%matplotlib inline \n",
    "from sklearn.model_selection import train_test_split\n",
    "from sklearn.linear_model import LinearRegression\n",
    "from sklearn.metrics import mean_squared_error\n",
    "from sklearn.metrics import mean_absolute_error\n",
    "from sklearn.metrics import r2_score\n"
   ]
  },
  {
   "cell_type": "code",
   "execution_count": 87,
   "metadata": {},
   "outputs": [
    {
     "data": {
      "text/html": [
       "<div>\n",
       "<style scoped>\n",
       "    .dataframe tbody tr th:only-of-type {\n",
       "        vertical-align: middle;\n",
       "    }\n",
       "\n",
       "    .dataframe tbody tr th {\n",
       "        vertical-align: top;\n",
       "    }\n",
       "\n",
       "    .dataframe thead th {\n",
       "        text-align: right;\n",
       "    }\n",
       "</style>\n",
       "<table border=\"1\" class=\"dataframe\">\n",
       "  <thead>\n",
       "    <tr style=\"text-align: right;\">\n",
       "      <th></th>\n",
       "      <th>year</th>\n",
       "      <th>mo</th>\n",
       "      <th>data_type</th>\n",
       "      <th>region</th>\n",
       "      <th>extent</th>\n",
       "      <th>area</th>\n",
       "    </tr>\n",
       "  </thead>\n",
       "  <tbody>\n",
       "    <tr>\n",
       "      <th>0</th>\n",
       "      <td>1979</td>\n",
       "      <td>1</td>\n",
       "      <td>Goddard</td>\n",
       "      <td>N</td>\n",
       "      <td>15.54</td>\n",
       "      <td>12.33</td>\n",
       "    </tr>\n",
       "    <tr>\n",
       "      <th>1</th>\n",
       "      <td>1980</td>\n",
       "      <td>1</td>\n",
       "      <td>Goddard</td>\n",
       "      <td>N</td>\n",
       "      <td>14.96</td>\n",
       "      <td>11.85</td>\n",
       "    </tr>\n",
       "    <tr>\n",
       "      <th>2</th>\n",
       "      <td>1981</td>\n",
       "      <td>1</td>\n",
       "      <td>Goddard</td>\n",
       "      <td>N</td>\n",
       "      <td>15.03</td>\n",
       "      <td>11.82</td>\n",
       "    </tr>\n",
       "    <tr>\n",
       "      <th>3</th>\n",
       "      <td>1982</td>\n",
       "      <td>1</td>\n",
       "      <td>Goddard</td>\n",
       "      <td>N</td>\n",
       "      <td>15.26</td>\n",
       "      <td>12.11</td>\n",
       "    </tr>\n",
       "    <tr>\n",
       "      <th>4</th>\n",
       "      <td>1983</td>\n",
       "      <td>1</td>\n",
       "      <td>Goddard</td>\n",
       "      <td>N</td>\n",
       "      <td>15.10</td>\n",
       "      <td>11.92</td>\n",
       "    </tr>\n",
       "  </tbody>\n",
       "</table>\n",
       "</div>"
      ],
      "text/plain": [
       "   year  mo data_type region  extent   area\n",
       "0  1979   1   Goddard      N   15.54  12.33\n",
       "1  1980   1   Goddard      N   14.96  11.85\n",
       "2  1981   1   Goddard      N   15.03  11.82\n",
       "3  1982   1   Goddard      N   15.26  12.11\n",
       "4  1983   1   Goddard      N   15.10  11.92"
      ]
     },
     "execution_count": 87,
     "metadata": {},
     "output_type": "execute_result"
    }
   ],
   "source": [
    "# Load the data and show the info and contents:\n",
    "ice = pd.read_csv('files/SeaIce.txt', delim_whitespace = True) \n",
    "ice.head()"
   ]
  },
  {
   "cell_type": "markdown",
   "metadata": {},
   "source": [
    "Summarize the Dataset\n",
    "\n",
    "- Dimensions of the dataset\n",
    "- Peek at the data itself\n",
    "- Statistical summary of all attributes."
   ]
  },
  {
   "cell_type": "code",
   "execution_count": 88,
   "metadata": {},
   "outputs": [
    {
     "data": {
      "text/plain": [
       "(424, 6)"
      ]
     },
     "execution_count": 88,
     "metadata": {},
     "output_type": "execute_result"
    }
   ],
   "source": [
    "# your code here for data shape\n",
    "ice.shape"
   ]
  },
  {
   "cell_type": "code",
   "execution_count": 89,
   "metadata": {},
   "outputs": [
    {
     "name": "stdout",
     "output_type": "stream",
     "text": [
      "<class 'pandas.core.frame.DataFrame'>\n",
      "RangeIndex: 424 entries, 0 to 423\n",
      "Data columns (total 6 columns):\n",
      " #   Column     Non-Null Count  Dtype  \n",
      "---  ------     --------------  -----  \n",
      " 0   year       424 non-null    int64  \n",
      " 1   mo         424 non-null    int64  \n",
      " 2   data_type  424 non-null    object \n",
      " 3   region     424 non-null    object \n",
      " 4   extent     424 non-null    float64\n",
      " 5   area       424 non-null    float64\n",
      "dtypes: float64(2), int64(2), object(2)\n",
      "memory usage: 20.0+ KB\n"
     ]
    }
   ],
   "source": [
    "# your code here for statistical summary \n",
    "ice.info()"
   ]
  },
  {
   "cell_type": "code",
   "execution_count": 90,
   "metadata": {},
   "outputs": [
    {
     "data": {
      "text/plain": [
       "<matplotlib.axes._subplots.AxesSubplot at 0x24110d0d388>"
      ]
     },
     "execution_count": 90,
     "metadata": {},
     "output_type": "execute_result"
    },
    {
     "data": {
      "image/png": "[encoded data removed]",
      "text/plain": [
       "<Figure size 432x288 with 1 Axes>"
      ]
     },
     "metadata": {
      "needs_background": "light"
     },
     "output_type": "display_data"
    }
   ],
   "source": [
    "# Visualize the data with a scatter plot (x is year, y as extent)\n",
    "iceplot = ice.plot(kind = 'scatter', x='year', y ='extent')\n",
    "iceplot"
   ]
  },
  {
   "cell_type": "markdown",
   "metadata": {},
   "source": [
    "# Clean your data  \n",
    "Note what is wrong with the data and what needs to be cleaned before proceeding.  Exclude the outlier data and repeat the plot to check the outlier data is now exluded."
   ]
  },
  {
   "cell_type": "code",
   "execution_count": 92,
   "metadata": {},
   "outputs": [
    {
     "data": {
      "text/html": [
       "<div>\n",
       "<style scoped>\n",
       "    .dataframe tbody tr th:only-of-type {\n",
       "        vertical-align: middle;\n",
       "    }\n",
       "\n",
       "    .dataframe tbody tr th {\n",
       "        vertical-align: top;\n",
       "    }\n",
       "\n",
       "    .dataframe thead th {\n",
       "        text-align: right;\n",
       "    }\n",
       "</style>\n",
       "<table border=\"1\" class=\"dataframe\">\n",
       "  <thead>\n",
       "    <tr style=\"text-align: right;\">\n",
       "      <th></th>\n",
       "      <th>year</th>\n",
       "      <th>mo</th>\n",
       "      <th>data_type</th>\n",
       "      <th>region</th>\n",
       "      <th>extent</th>\n",
       "      <th>area</th>\n",
       "    </tr>\n",
       "  </thead>\n",
       "  <tbody>\n",
       "    <tr>\n",
       "      <th>0</th>\n",
       "      <td>1979</td>\n",
       "      <td>1</td>\n",
       "      <td>Goddard</td>\n",
       "      <td>N</td>\n",
       "      <td>15.54</td>\n",
       "      <td>12.33</td>\n",
       "    </tr>\n",
       "    <tr>\n",
       "      <th>1</th>\n",
       "      <td>1980</td>\n",
       "      <td>1</td>\n",
       "      <td>Goddard</td>\n",
       "      <td>N</td>\n",
       "      <td>14.96</td>\n",
       "      <td>11.85</td>\n",
       "    </tr>\n",
       "    <tr>\n",
       "      <th>2</th>\n",
       "      <td>1981</td>\n",
       "      <td>1</td>\n",
       "      <td>Goddard</td>\n",
       "      <td>N</td>\n",
       "      <td>15.03</td>\n",
       "      <td>11.82</td>\n",
       "    </tr>\n",
       "    <tr>\n",
       "      <th>3</th>\n",
       "      <td>1982</td>\n",
       "      <td>1</td>\n",
       "      <td>Goddard</td>\n",
       "      <td>N</td>\n",
       "      <td>15.26</td>\n",
       "      <td>12.11</td>\n",
       "    </tr>\n",
       "    <tr>\n",
       "      <th>4</th>\n",
       "      <td>1983</td>\n",
       "      <td>1</td>\n",
       "      <td>Goddard</td>\n",
       "      <td>N</td>\n",
       "      <td>15.10</td>\n",
       "      <td>11.92</td>\n",
       "    </tr>\n",
       "    <tr>\n",
       "      <th>...</th>\n",
       "      <td>...</td>\n",
       "      <td>...</td>\n",
       "      <td>...</td>\n",
       "      <td>...</td>\n",
       "      <td>...</td>\n",
       "      <td>...</td>\n",
       "    </tr>\n",
       "    <tr>\n",
       "      <th>419</th>\n",
       "      <td>2009</td>\n",
       "      <td>12</td>\n",
       "      <td>Goddard</td>\n",
       "      <td>N</td>\n",
       "      <td>12.51</td>\n",
       "      <td>10.25</td>\n",
       "    </tr>\n",
       "    <tr>\n",
       "      <th>420</th>\n",
       "      <td>2010</td>\n",
       "      <td>12</td>\n",
       "      <td>Goddard</td>\n",
       "      <td>N</td>\n",
       "      <td>12.02</td>\n",
       "      <td>10.08</td>\n",
       "    </tr>\n",
       "    <tr>\n",
       "      <th>421</th>\n",
       "      <td>2011</td>\n",
       "      <td>12</td>\n",
       "      <td>Goddard</td>\n",
       "      <td>N</td>\n",
       "      <td>12.40</td>\n",
       "      <td>10.28</td>\n",
       "    </tr>\n",
       "    <tr>\n",
       "      <th>422</th>\n",
       "      <td>2012</td>\n",
       "      <td>12</td>\n",
       "      <td>Goddard</td>\n",
       "      <td>N</td>\n",
       "      <td>12.20</td>\n",
       "      <td>10.11</td>\n",
       "    </tr>\n",
       "    <tr>\n",
       "      <th>423</th>\n",
       "      <td>2013</td>\n",
       "      <td>12</td>\n",
       "      <td>NRTSI-G</td>\n",
       "      <td>N</td>\n",
       "      <td>12.38</td>\n",
       "      <td>10.48</td>\n",
       "    </tr>\n",
       "  </tbody>\n",
       "</table>\n",
       "<p>422 rows × 6 columns</p>\n",
       "</div>"
      ],
      "text/plain": [
       "     year  mo data_type region  extent   area\n",
       "0    1979   1   Goddard      N   15.54  12.33\n",
       "1    1980   1   Goddard      N   14.96  11.85\n",
       "2    1981   1   Goddard      N   15.03  11.82\n",
       "3    1982   1   Goddard      N   15.26  12.11\n",
       "4    1983   1   Goddard      N   15.10  11.92\n",
       "..    ...  ..       ...    ...     ...    ...\n",
       "419  2009  12   Goddard      N   12.51  10.25\n",
       "420  2010  12   Goddard      N   12.02  10.08\n",
       "421  2011  12   Goddard      N   12.40  10.28\n",
       "422  2012  12   Goddard      N   12.20  10.11\n",
       "423  2013  12   NRTSI-G      N   12.38  10.48\n",
       "\n",
       "[422 rows x 6 columns]"
      ]
     },
     "execution_count": 92,
     "metadata": {},
     "output_type": "execute_result"
    }
   ],
   "source": [
    "# Remove the outlier data and and repeat the plot to confirm data is clean\n",
    "# insert code here\n",
    "ice1 = ice[ice['extent'] < 0].index\n",
    "ice = ice.drop(ice1, axis=0)\n",
    "ice"
   ]
  },
  {
   "cell_type": "code",
   "execution_count": 93,
   "metadata": {},
   "outputs": [
    {
     "data": {
      "text/plain": [
       "(422, 6)"
      ]
     },
     "execution_count": 93,
     "metadata": {},
     "output_type": "execute_result"
    }
   ],
   "source": [
    "ice11.shape\n"
   ]
  },
  {
   "cell_type": "code",
   "execution_count": 94,
   "metadata": {},
   "outputs": [
    {
     "data": {
      "text/plain": [
       "<matplotlib.axes._subplots.AxesSubplot at 0x24110e37bc8>"
      ]
     },
     "execution_count": 94,
     "metadata": {},
     "output_type": "execute_result"
    },
    {
     "data": {
      "image/png": "[encoded data removed]",
      "text/plain": [
       "<Figure size 432x288 with 1 Axes>"
      ]
     },
     "metadata": {
      "needs_background": "light"
     },
     "output_type": "display_data"
    }
   ],
   "source": [
    "iceplot10 = ice.plot(kind = 'scatter', x='year', y ='extent')\n",
    "iceplot10"
   ]
  },
  {
   "cell_type": "markdown",
   "metadata": {},
   "source": [
    "# Normalize the Data\n",
    "\n",
    "The plot above should reveal that we need to normalize the data (it has a sinusoidal shape) and to do this we need to compute the mean for each month and subtract the monthly mean from each record.  This will remove the effect of seasons on the `extent` variable and reveal the longer term trend in the data.\n",
    "\n",
    "You can use the Pandas [groupby](http://pandas.pydata.org/pandas-docs/stable/groupby.html) method to group rows in a data frame according to some value.  This returns a __group__ object that can be used to operate on the groups. The [notebook for Chapter 6](https://github.com/MQCOMP257/introduction-datascience-python-book/blob/master/ch06_Regression_Analysis.ipynb) shows how to use this to normalise the data.\n",
    "\n",
    "(Advanced Hint: it is possible to avoid using a for loop to normalise this data - look at the [groupby.transform method](http://pandas.pydata.org/pandas-docs/stable/groupby.html#transformation))"
   ]
  },
  {
   "cell_type": "code",
   "execution_count": 95,
   "metadata": {},
   "outputs": [
    {
     "data": {
      "text/html": [
       "<div>\n",
       "<style scoped>\n",
       "    .dataframe tbody tr th:only-of-type {\n",
       "        vertical-align: middle;\n",
       "    }\n",
       "\n",
       "    .dataframe tbody tr th {\n",
       "        vertical-align: top;\n",
       "    }\n",
       "\n",
       "    .dataframe thead th {\n",
       "        text-align: right;\n",
       "    }\n",
       "</style>\n",
       "<table border=\"1\" class=\"dataframe\">\n",
       "  <thead>\n",
       "    <tr style=\"text-align: right;\">\n",
       "      <th></th>\n",
       "      <th>year</th>\n",
       "      <th>mo</th>\n",
       "      <th>data_type</th>\n",
       "      <th>region</th>\n",
       "      <th>extent_x</th>\n",
       "      <th>area</th>\n",
       "      <th>extent_y</th>\n",
       "      <th>CalExtent</th>\n",
       "    </tr>\n",
       "  </thead>\n",
       "  <tbody>\n",
       "    <tr>\n",
       "      <th>0</th>\n",
       "      <td>1979</td>\n",
       "      <td>1</td>\n",
       "      <td>Goddard</td>\n",
       "      <td>N</td>\n",
       "      <td>15.54</td>\n",
       "      <td>12.33</td>\n",
       "      <td>14.479429</td>\n",
       "      <td>1.060571</td>\n",
       "    </tr>\n",
       "    <tr>\n",
       "      <th>1</th>\n",
       "      <td>1980</td>\n",
       "      <td>1</td>\n",
       "      <td>Goddard</td>\n",
       "      <td>N</td>\n",
       "      <td>14.96</td>\n",
       "      <td>11.85</td>\n",
       "      <td>14.479429</td>\n",
       "      <td>0.480571</td>\n",
       "    </tr>\n",
       "    <tr>\n",
       "      <th>2</th>\n",
       "      <td>1981</td>\n",
       "      <td>1</td>\n",
       "      <td>Goddard</td>\n",
       "      <td>N</td>\n",
       "      <td>15.03</td>\n",
       "      <td>11.82</td>\n",
       "      <td>14.479429</td>\n",
       "      <td>0.550571</td>\n",
       "    </tr>\n",
       "    <tr>\n",
       "      <th>3</th>\n",
       "      <td>1982</td>\n",
       "      <td>1</td>\n",
       "      <td>Goddard</td>\n",
       "      <td>N</td>\n",
       "      <td>15.26</td>\n",
       "      <td>12.11</td>\n",
       "      <td>14.479429</td>\n",
       "      <td>0.780571</td>\n",
       "    </tr>\n",
       "    <tr>\n",
       "      <th>4</th>\n",
       "      <td>1983</td>\n",
       "      <td>1</td>\n",
       "      <td>Goddard</td>\n",
       "      <td>N</td>\n",
       "      <td>15.10</td>\n",
       "      <td>11.92</td>\n",
       "      <td>14.479429</td>\n",
       "      <td>0.620571</td>\n",
       "    </tr>\n",
       "    <tr>\n",
       "      <th>...</th>\n",
       "      <td>...</td>\n",
       "      <td>...</td>\n",
       "      <td>...</td>\n",
       "      <td>...</td>\n",
       "      <td>...</td>\n",
       "      <td>...</td>\n",
       "      <td>...</td>\n",
       "      <td>...</td>\n",
       "    </tr>\n",
       "    <tr>\n",
       "      <th>417</th>\n",
       "      <td>2009</td>\n",
       "      <td>12</td>\n",
       "      <td>Goddard</td>\n",
       "      <td>N</td>\n",
       "      <td>12.51</td>\n",
       "      <td>10.25</td>\n",
       "      <td>13.059429</td>\n",
       "      <td>-0.549429</td>\n",
       "    </tr>\n",
       "    <tr>\n",
       "      <th>418</th>\n",
       "      <td>2010</td>\n",
       "      <td>12</td>\n",
       "      <td>Goddard</td>\n",
       "      <td>N</td>\n",
       "      <td>12.02</td>\n",
       "      <td>10.08</td>\n",
       "      <td>13.059429</td>\n",
       "      <td>-1.039429</td>\n",
       "    </tr>\n",
       "    <tr>\n",
       "      <th>419</th>\n",
       "      <td>2011</td>\n",
       "      <td>12</td>\n",
       "      <td>Goddard</td>\n",
       "      <td>N</td>\n",
       "      <td>12.40</td>\n",
       "      <td>10.28</td>\n",
       "      <td>13.059429</td>\n",
       "      <td>-0.659429</td>\n",
       "    </tr>\n",
       "    <tr>\n",
       "      <th>420</th>\n",
       "      <td>2012</td>\n",
       "      <td>12</td>\n",
       "      <td>Goddard</td>\n",
       "      <td>N</td>\n",
       "      <td>12.20</td>\n",
       "      <td>10.11</td>\n",
       "      <td>13.059429</td>\n",
       "      <td>-0.859429</td>\n",
       "    </tr>\n",
       "    <tr>\n",
       "      <th>421</th>\n",
       "      <td>2013</td>\n",
       "      <td>12</td>\n",
       "      <td>NRTSI-G</td>\n",
       "      <td>N</td>\n",
       "      <td>12.38</td>\n",
       "      <td>10.48</td>\n",
       "      <td>13.059429</td>\n",
       "      <td>-0.679429</td>\n",
       "    </tr>\n",
       "  </tbody>\n",
       "</table>\n",
       "<p>422 rows × 8 columns</p>\n",
       "</div>"
      ],
      "text/plain": [
       "     year  mo data_type region  extent_x   area   extent_y  CalExtent\n",
       "0    1979   1   Goddard      N     15.54  12.33  14.479429   1.060571\n",
       "1    1980   1   Goddard      N     14.96  11.85  14.479429   0.480571\n",
       "2    1981   1   Goddard      N     15.03  11.82  14.479429   0.550571\n",
       "3    1982   1   Goddard      N     15.26  12.11  14.479429   0.780571\n",
       "4    1983   1   Goddard      N     15.10  11.92  14.479429   0.620571\n",
       "..    ...  ..       ...    ...       ...    ...        ...        ...\n",
       "417  2009  12   Goddard      N     12.51  10.25  13.059429  -0.549429\n",
       "418  2010  12   Goddard      N     12.02  10.08  13.059429  -1.039429\n",
       "419  2011  12   Goddard      N     12.40  10.28  13.059429  -0.659429\n",
       "420  2012  12   Goddard      N     12.20  10.11  13.059429  -0.859429\n",
       "421  2013  12   NRTSI-G      N     12.38  10.48  13.059429  -0.679429\n",
       "\n",
       "[422 rows x 8 columns]"
      ]
     },
     "execution_count": 95,
     "metadata": {},
     "output_type": "execute_result"
    }
   ],
   "source": [
    "# Compute the mean extent for each month and subtract from each row of the data frame\n",
    "set(ice['mo'])\n",
    "Mean_ice = ice.groupby('mo')['extent'].mean()\n",
    "\n",
    "icd_final = pd.merge(ice, Mean_ice, on='mo', how='inner')\n",
    "icd_final1 = icd_final.extent_x-icd_final.extent_y\n",
    "icd_final1\n",
    "icd_final['CalExtent'] = icd_final1\n",
    "icd_final"
   ]
  },
  {
   "cell_type": "markdown",
   "metadata": {},
   "source": [
    "Now you can plot `year` vs `extent` to look at the relationship we are trying to model.  What are your initial thoughts on the relationship? Is a linear model going to work? "
   ]
  },
  {
   "cell_type": "code",
   "execution_count": 96,
   "metadata": {},
   "outputs": [
    {
     "data": {
      "text/plain": [
       "<matplotlib.axes._subplots.AxesSubplot at 0x24110eae908>"
      ]
     },
     "execution_count": 96,
     "metadata": {},
     "output_type": "execute_result"
    },
    {
     "data": {
      "image/png": "[encoded data removed]",
      "text/plain": [
       "<Figure size 432x288 with 1 Axes>"
      ]
     },
     "metadata": {
      "needs_background": "light"
     },
     "output_type": "display_data"
    }
   ],
   "source": [
    "iceplot10 = icd_final.plot(kind = 'scatter', x='year', y ='CalExtent')\n",
    "iceplot10"
   ]
  },
  {
   "cell_type": "code",
   "execution_count": 97,
   "metadata": {},
   "outputs": [
    {
     "data": {
      "text/plain": [
       "<matplotlib.axes._subplots.AxesSubplot at 0x24110ecb788>"
      ]
     },
     "execution_count": 97,
     "metadata": {},
     "output_type": "execute_result"
    },
    {
     "data": {
      "image/png": "[encoded data removed]",
      "text/plain": [
       "<Figure size 432x288 with 1 Axes>"
      ]
     },
     "metadata": {
      "needs_background": "light"
     },
     "output_type": "display_data"
    }
   ],
   "source": [
    "sns.regplot('year','CalExtent',data = icd_final)"
   ]
  },
  {
   "cell_type": "markdown",
   "metadata": {},
   "source": [
    "## Simple Linear regression\n",
    "\n",
    "You should now build a linear regression model on the data to predict `extent` given the `year`.   How accurate is this model?  Use a train/test split to give an effective evaluation.  "
   ]
  },
  {
   "cell_type": "code",
   "execution_count": 124,
   "metadata": {},
   "outputs": [],
   "source": [
    "train, test = train_test_split(icd_final, test_size=0.2, random_state=142)"
   ]
  },
  {
   "cell_type": "code",
   "execution_count": 125,
   "metadata": {},
   "outputs": [
    {
     "name": "stdout",
     "output_type": "stream",
     "text": [
      "train shape:  (337, 8)\n",
      "test shape:  (85, 8)\n"
     ]
    }
   ],
   "source": [
    "print(\"train shape: \", train.shape)\n",
    "print(\"test shape: \", test.shape)"
   ]
  },
  {
   "cell_type": "code",
   "execution_count": 100,
   "metadata": {},
   "outputs": [
    {
     "data": {
      "text/plain": [
       "{'Goddard', 'NRTSI-G'}"
      ]
     },
     "execution_count": 100,
     "metadata": {},
     "output_type": "execute_result"
    }
   ],
   "source": [
    "#Goddard\n",
    "set(icd_final['data_type'])"
   ]
  },
  {
   "cell_type": "code",
   "execution_count": 145,
   "metadata": {},
   "outputs": [
    {
     "name": "stdout",
     "output_type": "stream",
     "text": [
      "X_train shape:  (337, 1)\n",
      "y_train shape:  (337, 1)\n",
      "X_test shape:  (85, 1)\n",
      "y_test shape:  (85, 1)\n"
     ]
    }
   ],
   "source": [
    "X_train = train[['year']]\n",
    "y_train = train[['CalExtent']]\n",
    "X_test = test[['year']]\n",
    "y_test = test[['CalExtent']]\n",
    "print(\"X_train shape: \", X_train.shape)\n",
    "print(\"y_train shape: \", y_train.shape)\n",
    "print(\"X_test shape: \", X_test.shape)\n",
    "print(\"y_test shape: \", y_test.shape)"
   ]
  },
  {
   "cell_type": "code",
   "execution_count": 146,
   "metadata": {},
   "outputs": [
    {
     "data": {
      "text/plain": [
       "LinearRegression(copy_X=True, fit_intercept=True, n_jobs=None, normalize=False)"
      ]
     },
     "execution_count": 146,
     "metadata": {},
     "output_type": "execute_result"
    }
   ],
   "source": [
    "lr = LinearRegression()\n",
    "lr.fit(X_train, y_train)"
   ]
  },
  {
   "cell_type": "code",
   "execution_count": 147,
   "metadata": {},
   "outputs": [
    {
     "name": "stdout",
     "output_type": "stream",
     "text": [
      "Coefficients:  [[-0.05075587]]\n",
      "Intercept:  [101.31409125]\n"
     ]
    }
   ],
   "source": [
    "print(\"Coefficients: \", lr.coef_)\n",
    "print(\"Intercept: \", lr.intercept_)"
   ]
  },
  {
   "cell_type": "code",
   "execution_count": 169,
   "metadata": {},
   "outputs": [
    {
     "data": {
      "text/plain": [
       "(85, 1)"
      ]
     },
     "execution_count": 169,
     "metadata": {},
     "output_type": "execute_result"
    }
   ],
   "source": [
    "y_pred = lr.predict(X_test)\n",
    "y_pred.shape"
   ]
  },
  {
   "cell_type": "code",
   "execution_count": 152,
   "metadata": {},
   "outputs": [
    {
     "name": "stdout",
     "output_type": "stream",
     "text": [
      "MSE:  0.16213703424087408\n",
      "RMSE:  0.40266243212009994\n",
      "MAE:  0.29080818322935514\n",
      "r2-squared:  0.7146547362473619\n"
     ]
    }
   ],
   "source": [
    "print(\"MSE: \", mean_squared_error(y_test, y_pred))\n",
    "print(\"RMSE: \", np.sqrt(mean_squared_error(y_test, y_pred)))\n",
    "print(\"MAE: \", mean_absolute_error(y_test, y_pred))\n",
    "print(\"r2-squared: \", r2_score(y_test, y_pred))\n"
   ]
  },
  {
   "cell_type": "code",
   "execution_count": 153,
   "metadata": {},
   "outputs": [
    {
     "name": "stdout",
     "output_type": "stream",
     "text": [
      "MSE:  0.14282220531667042\n",
      "RMSE:  0.37791825216132446\n",
      "MAE:  0.2785435881235456\n",
      "r2-squared:  0.6510315778501943\n"
     ]
    }
   ],
   "source": [
    "y_pred_train = lr.predict(X_train)\n",
    "print(\"MSE: \", mean_squared_error(y_train, y_pred_train))\n",
    "print(\"RMSE: \", np.sqrt(mean_squared_error(y_train, y_pred_train)))\n",
    "print(\"MAE: \", mean_absolute_error(y_train, y_pred_train))\n",
    "print(\"r2-squared: \", r2_score(y_train, y_pred_train))"
   ]
  },
  {
   "cell_type": "code",
   "execution_count": 174,
   "metadata": {},
   "outputs": [
    {
     "name": "stdout",
     "output_type": "stream",
     "text": [
      "Prediction of extent for January 2025 (in millions of square km): [[14.30680003]]\n"
     ]
    }
   ],
   "source": [
    "X = [[2025]]\n",
    "y_pred = lr.predict(X)\n",
    "j = 1 # January\n",
    "# Original value (before normalization)\n",
    "y_pred = (y_pred*Mean_ice.mean()/100) + Mean_ice[j]\n",
    "print(\"Prediction of extent for January 2025 (in millions of square km):\", y_pred)"
   ]
  },
  {
   "cell_type": "markdown",
   "metadata": {},
   "source": [
    "## Predictions\n",
    "\n",
    "This is actually a simple time-series model.  It can be used to predict the future.   An alternative way to evaluate the model is to use the most recent couple of years as test data.  Re-run your experiment using this partition. How good are your predictions? \n",
    "\n",
    "Finally, what will the extent of sea-ice be in 2025 according to your model?"
   ]
  },
  {
   "cell_type": "code",
   "execution_count": null,
   "metadata": {},
   "outputs": [],
   "source": [
    "The r2-square value for train data is 0.714 and test data is 0.651. The predictions is not too bad but it can be made much better by adding other variables. \n",
    "The extent of sea-ice be in 2025 according to your model is 14.30"
   ]
  }
 ],
 "metadata": {
  "kernelspec": {
   "display_name": "Python 3",
   "language": "python",
   "name": "python3"
  },
  "language_info": {
   "codemirror_mode": {
    "name": "ipython",
    "version": 3
   },
   "file_extension": ".py",
   "mimetype": "text/x-python",
   "name": "python",
   "nbconvert_exporter": "python",
   "pygments_lexer": "ipython3",
   "version": "3.7.4"
  }
 },
 "nbformat": 4,
 "nbformat_minor": 2
}
